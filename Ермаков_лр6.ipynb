{
  "cells": [
    {
      "cell_type": "markdown",
      "metadata": {
        "id": "HNlF7fIx2tjz"
      },
      "source": [
        "# Работа со строковыми значениями"
      ]
    },
    {
      "cell_type": "markdown",
      "metadata": {
        "id": "z4fLTO5t2tkH"
      },
      "source": [
        "__Автор задач: Блохин Н.В. (NVBlokhin@fa.ru)__\n",
        "\n",
        "Материалы:\n",
        "* Макрушин С.В. Лекция \"Работа со строковыми значениям\"\n",
        "* https://pyformat.info/\n",
        "* https://docs.python.org/3/library/re.html\n",
        "    * https://docs.python.org/3/library/re.html#flags\n",
        "    * https://docs.python.org/3/library/re.html#functions\n",
        "* https://pythonru.com/primery/primery-primeneniya-regulyarnyh-vyrazheniy-v-python\n",
        "* https://kanoki.org/2019/11/12/how-to-use-regex-in-pandas/\n",
        "* https://realpython.com/nltk-nlp-python/"
      ]
    },
    {
      "cell_type": "code",
      "source": [
        "import pandas as pd\n",
        "import re\n",
        "from google.colab import drive\n",
        "drive.mount('/content/drive/')\n",
        "from bs4 import BeautifulSoup"
      ],
      "metadata": {
        "colab": {
          "base_uri": "https://localhost:8080/"
        },
        "id": "n0JPpXtm8pRv",
        "outputId": "e4013efa-67c6-4e48-d581-a962d849a1e9"
      },
      "execution_count": 2,
      "outputs": [
        {
          "output_type": "stream",
          "name": "stdout",
          "text": [
            "Drive already mounted at /content/drive/; to attempt to forcibly remount, call drive.mount(\"/content/drive/\", force_remount=True).\n"
          ]
        }
      ]
    },
    {
      "cell_type": "markdown",
      "metadata": {
        "id": "c_JthrOy2tkM"
      },
      "source": [
        "## Задачи для совместного разбора"
      ]
    },
    {
      "cell_type": "markdown",
      "metadata": {
        "id": "oT2PTSRQ2tkP"
      },
      "source": [
        "1. Вывести на экран данные из словаря `obj` построчно в виде `k = v`, задав формат таким образом, чтобы знак равенства оказался на одной и той же позиции во всех строках. Строковые литералы обернуть в кавычки."
      ]
    },
    {
      "cell_type": "code",
      "execution_count": 5,
      "metadata": {
        "id": "Z03tYwod2tkS"
      },
      "outputs": [],
      "source": [
        "obj = {\n",
        "    \"home_page\": \"https://github.com/pypa/sampleproject\",\n",
        "    \"keywords\": \"sample setuptools development\",\n",
        "    \"license\": \"MIT\",\n",
        "}"
      ]
    },
    {
      "cell_type": "code",
      "source": [
        "for key, value in obj.items():\n",
        "    print(f\"'{key:<10}' = '{value}'\")"
      ],
      "metadata": {
        "colab": {
          "base_uri": "https://localhost:8080/"
        },
        "id": "V6XmwOy025Ie",
        "outputId": "5689786c-355f-4dd7-d313-e71622e54f02"
      },
      "execution_count": 30,
      "outputs": [
        {
          "output_type": "stream",
          "name": "stdout",
          "text": [
            "'home_page ' = 'https://github.com/pypa/sampleproject'\n",
            "'keywords  ' = 'sample setuptools development'\n",
            "'license   ' = 'MIT'\n"
          ]
        }
      ]
    },
    {
      "cell_type": "markdown",
      "metadata": {
        "id": "7YsA9AOM2tkX"
      },
      "source": [
        "2. Написать регулярное выражение,которое позволит найти номера групп студентов."
      ]
    },
    {
      "cell_type": "code",
      "execution_count": 2,
      "metadata": {
        "colab": {
          "base_uri": "https://localhost:8080/"
        },
        "id": "GhOGOC5K2tkZ",
        "outputId": "8a14152e-b675-49c4-ea3b-b228125aca86"
      },
      "outputs": [
        {
          "output_type": "execute_result",
          "data": {
            "text/plain": [
              "0    Евгения гр.ПМ19-1\n",
              "1         Илья пм 20-4\n",
              "2            Анна 20-3\n",
              "dtype: object"
            ]
          },
          "metadata": {},
          "execution_count": 2
        }
      ],
      "source": [
        "obj = pd.Series([\"Евгения гр.ПМ19-1\", \"Илья пм 20-4\", \"Анна 20-3\"])\n",
        "obj"
      ]
    },
    {
      "cell_type": "code",
      "source": [
        "pattern = r'[1-9][1-9]-[1-9]'"
      ],
      "metadata": {
        "id": "BLM8Gm8z6RIm"
      },
      "execution_count": 20,
      "outputs": []
    },
    {
      "cell_type": "markdown",
      "metadata": {
        "id": "jSfwVMLY2tkh"
      },
      "source": [
        "**3**. Разбейте текст формулировки задачи 2 на слова."
      ]
    },
    {
      "cell_type": "code",
      "source": [
        "string = 'Написать регулярное выражение,которое позволит найти номера групп студентов.'\n",
        "pattern = r'\\b\\w+\\b'\n",
        "print(re.findall(pattern, string))"
      ],
      "metadata": {
        "colab": {
          "base_uri": "https://localhost:8080/"
        },
        "id": "H6_OHAc069La",
        "outputId": "61aea5b0-1240-4928-cadf-3d3b4f0c57be"
      },
      "execution_count": 37,
      "outputs": [
        {
          "output_type": "stream",
          "name": "stdout",
          "text": [
            "['Написать', 'регулярное', 'выражение', 'которое', 'позволит', 'найти', 'номера', 'групп', 'студентов']\n"
          ]
        }
      ]
    },
    {
      "cell_type": "markdown",
      "metadata": {
        "id": "Nm2cjpLt2tkk"
      },
      "source": [
        "## Лабораторная работа 6"
      ]
    },
    {
      "cell_type": "markdown",
      "metadata": {
        "id": "IgFVsc4n2tkp"
      },
      "source": [
        "### Форматирование строк"
      ]
    },
    {
      "cell_type": "code",
      "source": [],
      "metadata": {
        "colab": {
          "base_uri": "https://localhost:8080/"
        },
        "id": "4vzFhP2A71kq",
        "outputId": "3774d5f1-d12e-48e0-f820-d463c2760c07"
      },
      "execution_count": 1,
      "outputs": [
        {
          "output_type": "stream",
          "name": "stdout",
          "text": [
            "Mounted at /content/drive/\n"
          ]
        }
      ]
    },
    {
      "cell_type": "markdown",
      "metadata": {
        "id": "MV4bPSDB2tks"
      },
      "source": [
        "1\\. Загрузите данные из файла `recipes_sample.csv` (__ЛР2__) в виде `pd.DataFrame` `recipes` При помощи форматирования строк выведите информацию об id рецепта и времени выполнения 5 случайных рецептов в виде таблицы следующего вида:\n",
        "\n",
        "    \n",
        "    |      id      |  minutes  |\n",
        "    |--------------------------|\n",
        "    |    61178     |    65     |\n",
        "    |    202352    |    80     |\n",
        "    |    364322    |    150    |\n",
        "    |    26177     |    20     |\n",
        "    |    224785    |    35     |\n",
        "    \n",
        "Обратите внимание, что ширина столбцов заранее неизвестна и должна рассчитываться динамически, в зависимости от тех данных, которые были выбраны. "
      ]
    },
    {
      "cell_type": "code",
      "source": [
        "recipes = pd.read_csv('/content/drive/MyDrive/tod lr2/recipes_sample.csv')\n",
        "from random import randint\n",
        "rand = [randint(0, len(recipes)) for i in range(5)]\n",
        "recipes1 = [recipes[['id', 'minutes']].iloc[i] for i in rand] \n",
        "print(f\"|{'id':^10}|{'minutes':^9}|\")\n",
        "print(f\"|{'':-^20}|\")\n",
        "for el in recipes1:\n",
        "    print(f\"|{el[0]:^10}|{el[1]:^9}|\")\n"
      ],
      "metadata": {
        "colab": {
          "base_uri": "https://localhost:8080/"
        },
        "id": "1_-FhFcc8KMa",
        "outputId": "38014b81-6eb9-4371-e53f-403d4730cda5"
      },
      "execution_count": 6,
      "outputs": [
        {
          "output_type": "stream",
          "name": "stdout",
          "text": [
            "|    id    | minutes |\n",
            "|--------------------|\n",
            "|  151148  |   25    |\n",
            "|  477937  |   135   |\n",
            "|  168032  |   20    |\n",
            "|  384098  |   15    |\n",
            "|  485675  |   80    |\n"
          ]
        }
      ]
    },
    {
      "cell_type": "code",
      "source": [
        "recipe = recipes[recipes['id'] == 170895].to_dict('index')[15754]\n",
        "recipe"
      ],
      "metadata": {
        "colab": {
          "base_uri": "https://localhost:8080/"
        },
        "id": "FTqccpIkDa-x",
        "outputId": "c2ab8b85-ae5a-4fe6-8c71-1b0a0ff40f12"
      },
      "execution_count": 44,
      "outputs": [
        {
          "output_type": "execute_result",
          "data": {
            "text/plain": [
              "{'name': 'leeks and parsnips  sauteed or creamed',\n",
              " 'id': 170895,\n",
              " 'minutes': 27,\n",
              " 'contributor_id': 8377,\n",
              " 'submitted': '2006-05-31',\n",
              " 'n_steps': 21.0,\n",
              " 'description': 'this is good sauteed only or creamed. very easy to make.',\n",
              " 'n_ingredients': 9.0}"
            ]
          },
          "metadata": {},
          "execution_count": 44
        }
      ]
    },
    {
      "cell_type": "markdown",
      "metadata": {
        "id": "1uBVHVbe2tkx"
      },
      "source": [
        "2\\. Напишите функцию `show_info`, которая по данным о рецепте создает строку (в смысле объекта python) с описанием следующего вида:\n",
        "\n",
        "```\n",
        "\"Название Из Нескольких Слов\"\n",
        "\n",
        "1. Шаг 1\n",
        "2. Шаг 2\n",
        "----------\n",
        "Автор: contributor_id\n",
        "Среднее время приготовления: minutes минут\n",
        "```\n",
        "\n",
        "    \n",
        "Данные для создания строки получите из файлов `recipes_sample.csv` (__ЛР2__) и `steps_sample.xml` (__ЛР3__). \n",
        "Вызовите данную функцию для рецепта с id `170895` и выведите (через `print`) полученную строку на экран."
      ]
    },
    {
      "cell_type": "code",
      "source": [
        "with open('/content/drive/MyDrive/tod lr3/steps_sample.xml') as f:\n",
        "    tree = BeautifulSoup(f, 'xml')\n",
        "dic = {}\n",
        "for recipe in tree.recipes.find_all('recipe'):\n",
        "    st = [steps.next for steps in recipe.steps.find_all(\"step\")]\n",
        "    dic[int(recipe.find('id').text)] = st\n",
        "data = dic[170895]\n",
        "recipe = recipes[recipes['id'] == 170895].to_dict('index')[15754]\n",
        "dictionary = {'name' : recipe['name'],\\\n",
        "             'steps' : data,\\\n",
        "             'author' : recipe['contributor_id'],\\\n",
        "             'minutes' : recipe['minutes']}"
      ],
      "metadata": {
        "id": "0nxBtthWYGXR"
      },
      "execution_count": 166,
      "outputs": []
    },
    {
      "cell_type": "code",
      "source": [
        "def show_info(recipe:dic):\n",
        "    string = ' '\n",
        "    string += f\"{recipe['name'].title()}\\n\"\n",
        "    for i, el in enumerate(recipe['steps']):\n",
        "        string += f'{i+1}. {el.capitalize()} \\n'\n",
        "    string += '-'*30\n",
        "    string += '\\n'\n",
        "    string += f\"Автор: {recipe['author']}\\n\"\n",
        "    string += f\"Среднее время приготовления: {recipe['minutes']} минут\\n\"\n",
        "    return string\n",
        "print(show_info(dic))"
      ],
      "metadata": {
        "colab": {
          "base_uri": "https://localhost:8080/"
        },
        "id": "bUI6mGYY97xy",
        "outputId": "fcec0fe9-9aeb-4022-a68e-eef43c6b778f"
      },
      "execution_count": 54,
      "outputs": [
        {
          "output_type": "stream",
          "name": "stdout",
          "text": [
            " Leeks And Parsnips  Sauteed Or Creamed\n",
            "1. Clean the leeks and discard the dark green portions \n",
            "2. Cut the leeks lengthwise then into one-inch pieces \n",
            "3. Melt the butter in a medium skillet , med \n",
            "4. Heat \n",
            "5. Add the garlic and fry 'til fragrant \n",
            "6. Add leeks and fry until the leeks are tender , about 6-minutes \n",
            "7. Meanwhile , peel and chunk the parsnips into one-inch pieces \n",
            "8. Place in a steaming basket and steam 'til they are as tender as you prefer \n",
            "9. I like them fork-tender \n",
            "10. Drain parsnips and add to the skillet with the leeks \n",
            "11. Add salt and pepper \n",
            "12. Gently sautee together for 5-minutes \n",
            "13. At this point you can serve it , or continue on and cream it: \n",
            "14. In a jar with a screw top , add the half-n-half and arrowroot \n",
            "15. Shake 'til blended \n",
            "16. Turn heat to low under the leeks and parsnips \n",
            "17. Pour in the arrowroot mixture , stirring gently as you pour \n",
            "18. If too thick , gradually add the water \n",
            "19. Let simmer for a couple of minutes \n",
            "20. Taste to adjust seasoning , probably an additional 1 / 2 teaspoon salt \n",
            "21. Serve warm \n",
            "------------------------------\n",
            "Автор: 8377\n",
            "Среднее время приготовления: 27 минут\n",
            "\n"
          ]
        }
      ]
    },
    {
      "cell_type": "code",
      "execution_count": null,
      "metadata": {
        "id": "GngdANPo2tk1",
        "outputId": "668ef8ed-da0d-4715-ad5c-afb5943fee8e"
      },
      "outputs": [
        {
          "data": {
            "application/javascript": [
              "\n",
              "            setTimeout(function() {\n",
              "                var nbb_cell_id = 13;\n",
              "                var nbb_unformatted_code = \"assert (\\n    show_info(\\n    name=\\\"george s at the cove black bean soup\\\",\\n    steps=[\\n        \\\"clean the leeks and discard the dark green portions\\\",\\n        \\\"cut the leeks lengthwise then into one-inch pieces\\\",\\n        \\\"melt the butter in a medium skillet , med\\\",\\n    ],\\n    minutes=90,\\n    author_id=35193,\\n)\\n    ==  '\\\"George S At The Cove Black Bean Soup\\\"\\\\n\\\\n1. Clean the leeks and discard the dark green portions\\\\n2. Cut the leeks lengthwise then into one-inch pieces\\\\n3. Melt the butter in a medium skillet , med\\\\n----------\\\\n\\u0410\\u0432\\u0442\\u043e\\u0440: 35193\\\\n\\u0421\\u0440\\u0435\\u0434\\u043d\\u0435\\u0435 \\u0432\\u0440\\u0435\\u043c\\u044f \\u043f\\u0440\\u0438\\u0433\\u043e\\u0442\\u043e\\u0432\\u043b\\u0435\\u043d\\u0438\\u044f: 90 \\u043c\\u0438\\u043d\\u0443\\u0442\\\\n'\\n)\";\n",
              "                var nbb_formatted_code = \"assert (\\n    show_info(\\n        name=\\\"george s at the cove black bean soup\\\",\\n        steps=[\\n            \\\"clean the leeks and discard the dark green portions\\\",\\n            \\\"cut the leeks lengthwise then into one-inch pieces\\\",\\n            \\\"melt the butter in a medium skillet , med\\\",\\n        ],\\n        minutes=90,\\n        author_id=35193,\\n    )\\n    == '\\\"George S At The Cove Black Bean Soup\\\"\\\\n\\\\n1. Clean the leeks and discard the dark green portions\\\\n2. Cut the leeks lengthwise then into one-inch pieces\\\\n3. Melt the butter in a medium skillet , med\\\\n----------\\\\n\\u0410\\u0432\\u0442\\u043e\\u0440: 35193\\\\n\\u0421\\u0440\\u0435\\u0434\\u043d\\u0435\\u0435 \\u0432\\u0440\\u0435\\u043c\\u044f \\u043f\\u0440\\u0438\\u0433\\u043e\\u0442\\u043e\\u0432\\u043b\\u0435\\u043d\\u0438\\u044f: 90 \\u043c\\u0438\\u043d\\u0443\\u0442\\\\n'\\n)\";\n",
              "                var nbb_cells = Jupyter.notebook.get_cells();\n",
              "                for (var i = 0; i < nbb_cells.length; ++i) {\n",
              "                    if (nbb_cells[i].input_prompt_number == nbb_cell_id) {\n",
              "                        if (nbb_cells[i].get_text() == nbb_unformatted_code) {\n",
              "                             nbb_cells[i].set_text(nbb_formatted_code);\n",
              "                        }\n",
              "                        break;\n",
              "                    }\n",
              "                }\n",
              "            }, 500);\n",
              "            "
            ],
            "text/plain": [
              "<IPython.core.display.Javascript object>"
            ]
          },
          "metadata": {},
          "output_type": "display_data"
        }
      ],
      "source": [
        "assert (\n",
        "    show_info(\n",
        "        name=\"george s at the cove black bean soup\",\n",
        "        steps=[\n",
        "            \"clean the leeks and discard the dark green portions\",\n",
        "            \"cut the leeks lengthwise then into one-inch pieces\",\n",
        "            \"melt the butter in a medium skillet , med\",\n",
        "        ],\n",
        "        minutes=90,\n",
        "        author_id=35193,\n",
        "    )\n",
        "    == '\"George S At The Cove Black Bean Soup\"\\n\\n1. Clean the leeks and discard the dark green portions\\n2. Cut the leeks lengthwise then into one-inch pieces\\n3. Melt the butter in a medium skillet , med\\n----------\\nАвтор: 35193\\nСреднее время приготовления: 90 минут\\n'\n",
        ")"
      ]
    },
    {
      "cell_type": "markdown",
      "metadata": {
        "id": "NA5lBrIY2tk5"
      },
      "source": [
        "## Работа с регулярными выражениями"
      ]
    },
    {
      "cell_type": "markdown",
      "metadata": {
        "id": "OWwN-td22tk6"
      },
      "source": [
        "3\\. Напишите регулярное выражение, которое ищет следующий паттерн в строке: число (1 цифра или более), затем пробел, затем слова: hour или hours или minute или minutes. Произведите поиск по данному регулярному выражению в каждом шаге рецепта с id 25082. Выведите на экран все непустые результаты, найденные по данному шаблону."
      ]
    },
    {
      "cell_type": "code",
      "source": [
        "data = dic[25082]\n",
        "pattern = r'\\d+ hours?|\\d+ minutes?'\n",
        "lst = []\n",
        "for el in data:\n",
        "    lst.append(re.findall(pattern, el))\n",
        "for el in lst:\n",
        "    if el != []:\n",
        "        print(el)"
      ],
      "metadata": {
        "colab": {
          "base_uri": "https://localhost:8080/"
        },
        "id": "7oH1zzmKF1Bl",
        "outputId": "6b991b79-af21-4876-fe49-5f951e5bff19"
      },
      "execution_count": 68,
      "outputs": [
        {
          "output_type": "stream",
          "name": "stdout",
          "text": [
            "['20 minutes']\n",
            "['10 minutes']\n",
            "['2 hours']\n",
            "['10 minutes']\n",
            "['20 minutes', '30 minutes']\n"
          ]
        }
      ]
    },
    {
      "cell_type": "markdown",
      "metadata": {
        "id": "ncO666262tk8"
      },
      "source": [
        "4\\. Напишите регулярное выражение, которое ищет шаблон вида \"this..., but\" _в начале строки_ . Между словом \"this\" и частью \", but\" может находиться произвольное число букв, цифр, знаков подчеркивания и пробелов. Никаких других символов вместо многоточия быть не может. Пробел между запятой и словом \"but\" может присутствовать или отсутствовать.\n",
        "\n",
        "Используя строковые методы `pd.Series`, выясните, для каких рецептов данный шаблон содержится в тексте описания. Выведите на экран количество таких рецептов и 3 примера подходящих описаний (текст описания должен быть виден на экране полностью)."
      ]
    },
    {
      "cell_type": "code",
      "source": [
        "pattern = r'this[\\w ]*, ?but'\n",
        "pt = r'a'\n",
        "data = recipes['description'].tolist()\n",
        "num = 0\n",
        "for descr in data:\n",
        "    match = re.search(pattern, str(descr))\n",
        "    if match == None:\n",
        "        continue\n",
        "    else:\n",
        "        num += 1\n",
        "        if num <= 3:\n",
        "            print(descr)\n",
        "print(num)"
      ],
      "metadata": {
        "colab": {
          "base_uri": "https://localhost:8080/"
        },
        "id": "vUkuTFotHyVl",
        "outputId": "e6e40889-04a1-4bcd-fcb0-5a2fba695373"
      },
      "execution_count": 98,
      "outputs": [
        {
          "output_type": "stream",
          "name": "stdout",
          "text": [
            "okay, i probably didn't make this up, but i felt like i did.  i was looking for something new to make that my kids would love.  it was colorful and my 3 year old called it rainbow chicken. so easy and i liked it too!\r\n",
            "the amounts and times are not exact i didn't really measure as i was going along.\n",
            "this is a great meal eaten the same day ,but even better the next day , if you can wait! add your favourite spices, but try it first as it is and i think that you will enjoy the 'vegetable' taste. good for freezing.\n",
            "this is fantastic served with grilled seafood or chicken! plan ahead this needs to chill for 30 minutes before serving, this can be made up to 2 hours in advance, but does not keep well overnight.\n",
            "777\n"
          ]
        }
      ]
    },
    {
      "cell_type": "markdown",
      "metadata": {
        "id": "vs-qDs5x2tk9"
      },
      "source": [
        "5\\. В текстах шагов рецептов обыкновенные дроби имеют вид \"a / b\". Используя регулярные выражения, уберите в тексте шагов рецепта с id 72367 пробелы до и после символа дроби. Выведите на экран шаги этого рецепта после их изменения."
      ]
    },
    {
      "cell_type": "code",
      "source": [
        "recipe = dic[72367]\n",
        "print(recipe)\n",
        "for i in range(len(recipe)):\n",
        "    recipe[i] =re.sub(r'(\\d) / (\\d)', r'\\1/\\2', recipe[i])\n",
        "print(recipe)"
      ],
      "metadata": {
        "colab": {
          "base_uri": "https://localhost:8080/"
        },
        "id": "Qa-TQg9eMpQB",
        "outputId": "7bd7ea45-d186-4605-f201-7b79fdfd38e6"
      },
      "execution_count": 113,
      "outputs": [
        {
          "output_type": "stream",
          "name": "stdout",
          "text": [
            "['mix butter , flour , 1 / 3 c', 'sugar and 1-1 / 4 t', 'vanilla', 'press into greased 9\" springform pan', 'mix cream cheese , 1 / 4 c', 'sugar , eggs and 1 / 2 t', 'vanilla beating until fluffy', 'pour over dough', 'combine apples , 1 / 3 c', 'sugar and cinnamon', 'arrange on top of cream cheese mixture and sprinkle with almonds', 'bake at 350 for 45-55 minutes , or until tester comes out clean']\n",
            "['mix butter , flour , 1/3 c', 'sugar and 1-1/4 t', 'vanilla', 'press into greased 9\" springform pan', 'mix cream cheese , 1/4 c', 'sugar , eggs and 1/2 t', 'vanilla beating until fluffy', 'pour over dough', 'combine apples , 1/3 c', 'sugar and cinnamon', 'arrange on top of cream cheese mixture and sprinkle with almonds', 'bake at 350 for 45-55 minutes , or until tester comes out clean']\n"
          ]
        }
      ]
    },
    {
      "cell_type": "markdown",
      "metadata": {
        "id": "z-9eOfHA2tk-"
      },
      "source": [
        "### Сегментация текста"
      ]
    },
    {
      "cell_type": "code",
      "source": [
        "import nltk\n",
        "nltk.download('averaged_perceptron_tagger')"
      ],
      "metadata": {
        "colab": {
          "base_uri": "https://localhost:8080/"
        },
        "id": "NbjsXFz2f1kt",
        "outputId": "fa9d5a75-b4f3-4ebd-d4c6-35f9153b2daa"
      },
      "execution_count": 185,
      "outputs": [
        {
          "output_type": "stream",
          "name": "stderr",
          "text": [
            "[nltk_data] Downloading package averaged_perceptron_tagger to\n",
            "[nltk_data]     /root/nltk_data...\n",
            "[nltk_data]   Unzipping taggers/averaged_perceptron_tagger.zip.\n"
          ]
        },
        {
          "output_type": "execute_result",
          "data": {
            "text/plain": [
              "True"
            ]
          },
          "metadata": {},
          "execution_count": 185
        }
      ]
    },
    {
      "cell_type": "code",
      "source": [
        "from nltk.tokenize.toktok import ToktokTokenizer\n",
        "toktok = ToktokTokenizer()"
      ],
      "metadata": {
        "id": "dbgK_Pgvgh06"
      },
      "execution_count": 126,
      "outputs": []
    },
    {
      "cell_type": "markdown",
      "metadata": {
        "id": "hVOtrzx52tk_"
      },
      "source": [
        "6\\. Разбейте тексты шагов рецептов на слова при помощи пакета `nltk`. Посчитайте и выведите на экран кол-во уникальных слов среди всех рецептов. Словом называется любая последовательность алфавитных символов (для проверки можно воспользоваться `str.isalpha`). При подсчете количества уникальных слов не учитывайте регистр."
      ]
    },
    {
      "cell_type": "code",
      "source": [
        "words = []\n",
        "for recipe in dic.values():\n",
        "    for step in recipe:\n",
        "        words += (toktok.tokenize(step))\n",
        "words = [el.lower() if el.isalpha() else 1 for el in words]\n",
        "words = set(words)\n",
        "words.remove(1)\n",
        "len(words)"
      ],
      "metadata": {
        "colab": {
          "base_uri": "https://localhost:8080/"
        },
        "id": "naz034tgg5kL",
        "outputId": "6989f70a-9ae3-4cd7-f17c-a120013a0db4"
      },
      "execution_count": 153,
      "outputs": [
        {
          "output_type": "execute_result",
          "data": {
            "text/plain": [
              "14956"
            ]
          },
          "metadata": {},
          "execution_count": 153
        }
      ]
    },
    {
      "cell_type": "markdown",
      "metadata": {
        "id": "PD_EscJG2tlB"
      },
      "source": [
        "7\\. Разбейте описания рецептов из `recipes` на предложения при помощи пакета `nltk`. Найдите 5 самых длинных описаний (по количеству _предложений_) рецептов в датасете и выведите строки фрейма, соответствующие этим рецептами, в порядке убывания длины."
      ]
    },
    {
      "cell_type": "code",
      "source": [
        "from nltk.tokenize import sent_tokenize\n",
        "dic1 = {}\n",
        "for key, val in dic.items():\n",
        "    dic1[key] = 0\n",
        "    for step in val:\n",
        "        dic1[key] += len(sent_tokenize(step))\n",
        "for i in range(-1, -6, -1):\n",
        "    print(dic[sorted(dic)[i]])"
      ],
      "metadata": {
        "colab": {
          "base_uri": "https://localhost:8080/"
        },
        "id": "VFQk0vJ1q1U5",
        "outputId": "3b76f2c5-9528-4ac9-fac2-f4fb8fb4e25c"
      },
      "execution_count": 183,
      "outputs": [
        {
          "output_type": "stream",
          "name": "stdout",
          "text": [
            "['for the vanilla cake:', 'preheat convection oven to 320f', 'grease a 9-inch ovenproof bowl', 'sift together flour , baking powder , and salt in a medium bowl', 'set aside', 'using a kitchen mixer , cream together the butter , oil , sugar , and vanilla until light and fluffy', 'add the eggs one at a time , mixing until combined', 'fold in the flour mixture and the milk in one-third increments , alternating between them', 'fold until just combined', 'pour mixture into prepared bowl and bake for 45-50 minutes or until a skewer inserted into the center comes out clean', 'stand cake in bowl for 1 hour , before turning onto wire rack to cool completely', 'cover with plastic wrap or a clean , damp tea towel and set aside until assembly', 'for the marshmallow puffs:', 'you will need: 3 large piping bags', '3 semi-sphere silicone molds', 'to make your first batch of marshmallow puffs , place 250g sugar and 130g of water in a large , heavy based pan', 'put the candy thermometer in , and turn on the heat', 'without stirring , allow the sugar syrup to heat and boil until it reaches 250f on the thermometer', 'meanwhile , place 70ml of hot ? water in a cup or small bowl and add 20g gelatin powder', 'add flavoring , as desired', 'once the the sugar syrup reaches around 230f , whip 3 egg whites to firm peaks in the bowl of a kitchen mixer', 'remove sugar syrup from heat at 250f , then gently stir in the gelatin mixture until well combined', 'with the kitchen mixer on highest speed , continue to whip the egg whites while carefully pouring in the hot sugar syrup', 'continue to whip until mixture thickens and increases in volume , whilst also remaining pourable', 'mix in food color until a desired shade is achieved', 'working quickly , transfer into 1 large piping bag and use scissors to snip 2cm off the end', 'quickly pipe the marshmallow into all silicone cells , until level', 'place into refrigerator for at least 1 hour or until completely set', 'to remove marshmallows from mould , lightly oil your hands with a small amount of cooking oil spray and gently pop out one by one , rolling each one generously in the coconut', 'to make your second color of marshmallow puffs , respray silicone molds with cooking oil spray', 'repeat steps 1-5 and color marshmallow mixture with a separate color', 'to make your final batch of marshmallow puffs , respray silicone moulds with cooking oil spray', 'repeat steps 1-5 and color marshmallow mixture with final color', 'you can freeze marshmallows in an air-tight container for up to 1 month', 'for the cream cheese frosting:', 'you will need: 1 piping bag', 'for the frosting , use an electric mixer to beat the cream cheese and butter until fluffy', 'gradually add the icing sugar while beating', 'add the lemon juice and beat until fluffy', 'use a long , thin knife to divide your cake horizontally into 3 layers', 'place a dollop of cream cheese frosting onto a cake board or large serving plate and place the bottom layer of cake on top', 'use an offset spatula to apply a layer of cream cheese on top', 'fill piping bag with cream cheese and pipe a 1cm thick barrier around the inner edge of cake layer', 'fill with raspberry jam and gently place second layer on top', 'repeat this process with the second layer , this time using cream cheese and lemon curd', 'gently place final layer on top and use an offset spatula to crumb coat cake with cream cheese frosting', 'plate in refrigerator for 20 minutes to firm', 'frost cake with remaining cream cheese frosting and completely cover with assorted marshmallow puffs', 'once decorated , you can use remaining desiccated coconut to fill in any small gaps between marshmallow puffs', 'this cake is best enjoyed on the day of decorating and served at room temperature', 'can be refrigerated for up to 4 days']\n",
            "['1: arrange watermelon on large platter or in bowl', '2: top with sliced avocado , blueberries and crumble feta cheese over fruit', \"3: sprinkle tony's bold creole seasoning over the melon and cheese\", '4: serve chilled']\n",
            "['place all ingredients in a blender and process into a creamy and smooth consistency', 'store in the fridge']\n",
            "['cut butter into very small cubes and place in freezer for at least 10 minutes', 'place flour and salt in a food processor', 'cut cream cheese into small cubes and add to food processor', 'add frozen butter cubes to food processor', 'pulse in 1-second pulses for about 8 to 10 pulses , until small crumb stage', 'turn processor on and stream in the lemon juice , just for a few seconds until the dough begins to come together in a ball', 'if needed to make dough come together , stream in a little of the water', 'flatten dough into a small disc , wrap in plastic wrap and then refrigerate for 4 to 24 hours', 'preheat oven to 400 degrees', 'turn out onto a lightly floured surface and let stand about 20 minutes , until soft and cool to the touch', 'roll out to 1 / 4 inch thickness', 'fold dough over itself in thirds', 'roll out to 1 / 4 inch thickness again and fold again', 'roll out to 1 / 4 inch thickness', 'cut into shapes as desired and place on a baking sheet with parchment paper', 'chill in refrigerator for about 10 minutes before baking', 'bake near top of of oven for 15 to 18 minutes , depending on size of shapes , until light golden brown , watching closely the last few minutes so as not to burn']\n",
            "['place cauliflower in a pot with one inch of salted water , and allow to steam , approximately 5 minute cauliflower is ready when it gently slides off a fork when stabbed', 'allow cauliflower to cool', 'while cauliflower is cooling , add chopped onion to a bowl of salted water', 'allow to soak 5 minutes , then drain', 'give cauliflower a rough chop to create small pieces , about the size of a dime', \"it's okay if there are different sized pieces\", 'place in a large mixing bowl', 'squeeze juice of 6 limes over mixture and mix well', 'add chopped cilantro , drained onions , chopped jalapeo , salt , pepper , and cumin to bowl', 'blend well', 'allow mixture to cool in the refrigerator and allow the flavors to mingle if desired', 'otherwise , ready to eat immediately !', 'ceviche can be served alongside corn tortilla chips or on a tostada', 'optional serving suggestion: add guacamole to the tostada or add chipotle mayo to the tostada before adding the ceviche for a kick', 'optional serving suggestion: add guacamole to the tostada or add chipotle mayo to the tostada before adding the ceviche for a kick']\n"
          ]
        }
      ]
    },
    {
      "cell_type": "markdown",
      "metadata": {
        "id": "tghudB6X2tlD"
      },
      "source": [
        "8\\. Напишите функцию, которая для заданного предложения выводит информацию о частях речи слов, входящих в предложение, в следующем виде:\n",
        "```\n",
        "PRP   VBD   DT      NNS     CC   VBD      NNS        RB   \n",
        " I  omitted the raspberries and added strawberries instead\n",
        "``` \n",
        "Для определения части речи слова можно воспользоваться `nltk.pos_tag`.\n",
        "\n",
        "Проверьте работоспособность функции на названии рецепта с id 241106.\n",
        "\n",
        "Обратите внимание, что часть речи должна находиться ровно посередине над соотвествующим словом, а между самими словами должен быть ровно один пробел.\n"
      ]
    },
    {
      "cell_type": "code",
      "execution_count": 269,
      "metadata": {
        "colab": {
          "base_uri": "https://localhost:8080/"
        },
        "id": "fCqdmHqi2tlE",
        "outputId": "d9d944a3-43bf-4b55-d06b-5c5a77c76ee5"
      },
      "outputs": [
        {
          "output_type": "stream",
          "name": "stdout",
          "text": [
            "TO  VB  DT     JJ       NN    :   VB    DT   JJ   CD     NNS     ,   RB    VBG   DT  NN  CC    VBG      RB    TO   VB     RB  \n",
            "to make the balsamic marinade : combine the first 5  ingredients , slowly adding the oil and stirring briskly to combine well\n"
          ]
        }
      ],
      "source": [
        "from nltk.tag import pos_tag\n",
        "from nltk.tokenize import word_tokenize\n",
        "def eight(string):\n",
        "    upper = []\n",
        "    lower = []\n",
        "    a = pos_tag(word_tokenize(string))\n",
        "    for el in a:\n",
        "        k, v = el\n",
        "        lower.append(k)\n",
        "        upper.append(v)\n",
        "    for i in range(len(lower)):\n",
        "        if len(upper[i]) <= len(lower[i]):\n",
        "            print(f'{upper[i]:^{len(lower[i])}} ', end='')\n",
        "        else:\n",
        "            print(f'{upper[i]:^{len(lower[i])+1}} ', end='')\n",
        "            lower[i] += ' '\n",
        "    print()\n",
        "    print(' '.join(lower))\n",
        "eight(dic[241106][0])"
      ]
    },
    {
      "cell_type": "code",
      "source": [],
      "metadata": {
        "id": "c_5cZFfL_GiM"
      },
      "execution_count": null,
      "outputs": []
    }
  ],
  "metadata": {
    "kernelspec": {
      "display_name": "Python 3 (ipykernel)",
      "language": "python",
      "name": "python3"
    },
    "language_info": {
      "codemirror_mode": {
        "name": "ipython",
        "version": 3
      },
      "file_extension": ".py",
      "mimetype": "text/x-python",
      "name": "python",
      "nbconvert_exporter": "python",
      "pygments_lexer": "ipython3",
      "version": "3.9.7"
    },
    "colab": {
      "provenance": []
    }
  },
  "nbformat": 4,
  "nbformat_minor": 0
}